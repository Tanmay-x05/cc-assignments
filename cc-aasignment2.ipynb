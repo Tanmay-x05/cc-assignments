{
 "cells": [
  {
   "cell_type": "code",
   "execution_count": 1,
   "id": "cfd36cb9-1af9-4fd2-9ebb-3d0541f41340",
   "metadata": {},
   "outputs": [
    {
     "name": "stdout",
     "output_type": "stream",
     "text": [
      "[300, 200, 80, 70, 60, 50, 40, 20]\n"
     ]
    }
   ],
   "source": [
    "L = [10, 20, 30, 40, 50, 60, 70, 80]\n",
    "\n",
    "L.extend([200, 300])\n",
    "\n",
    "L.remove(10)\n",
    "L.remove(30)\n",
    "\n",
    "L.sort()\n",
    "\n",
    "L.sort(reverse=True)\n",
    "\n",
    "print(L)"
   ]
  },
  {
   "cell_type": "code",
   "execution_count": 3,
   "id": "9d2188cd-d24e-4286-b3ba-f1cc94dea897",
   "metadata": {},
   "outputs": [
    {
     "name": "stdout",
     "output_type": "stream",
     "text": [
      "Highest score: 92, Index: 5\n",
      "Lowest score: 45, Count: 2\n",
      "Reversed tuple as list: [45, 58, 92, 89, 45.4, 76, 89.5, 45]\n",
      "76 found at index: 2\n"
     ]
    }
   ],
   "source": [
    "scores = (45, 89.5, 76, 45.4, 89, 92, 58, 45)\n",
    "\n",
    "max_score = max(scores)\n",
    "max_index = scores.index(max_score)\n",
    "print(f\"Highest score: {max_score}, Index: {max_index}\")\n",
    "\n",
    "min_score = min(scores)\n",
    "min_count = scores.count(min_score)\n",
    "print(f\"Lowest score: {min_score}, Count: {min_count}\")\n",
    "\n",
    "reversed_list = list(reversed(scores))\n",
    "print(\"Reversed tuple as list:\", reversed_list)\n",
    "\n",
    "user_input = 76\n",
    "if user_input in scores:\n",
    "    print(f\"76 found at index: {scores.index(user_input)}\")\n",
    "else:\n",
    "    print(\"76 is not present in the tuple.\")"
   ]
  },
  {
   "cell_type": "code",
   "execution_count": 5,
   "id": "8bd07745-3084-4b4b-83dc-e12f56f187b6",
   "metadata": {},
   "outputs": [
    {
     "name": "stdout",
     "output_type": "stream",
     "text": [
      "Odd numbers count: 57\n",
      "Even numbers count: 43\n",
      "Prime numbers count: 18\n"
     ]
    }
   ],
   "source": [
    "import random\n",
    "\n",
    "numbers = [random.randint(100, 900) for _ in range(100)]\n",
    "\n",
    "odd_numbers = [num for num in numbers if num % 2 != 0]\n",
    "print(\"Odd numbers count:\", len(odd_numbers))\n",
    "\n",
    "even_numbers = [num for num in numbers if num % 2 == 0]\n",
    "print(\"Even numbers count:\", len(even_numbers))\n",
    "def is_prime(n):\n",
    "    if n < 2:\n",
    "        return False\n",
    "    for i in range(2, int(n ** 0.5) + 1):\n",
    "        if n % i == 0:\n",
    "            return False\n",
    "    return True\n",
    "\n",
    "prime_numbers = [num for num in numbers if is_prime(num)]\n",
    "print(\"Prime numbers count:\", len(prime_numbers))"
   ]
  },
  {
   "cell_type": "code",
   "execution_count": null,
   "id": "db85619f-7cdf-42b2-93a5-82f4e1c9bfa5",
   "metadata": {},
   "outputs": [
    {
     "name": "stdout",
     "output_type": "stream",
     "text": [
      "Union: {34, 45, 78, 23, 56, 90}\n",
      "Intersection: {90, 78}\n",
      "Symmetric Difference: {34, 45, 23, 56}\n",
      "Is A subset of B?: False\n",
      "Is B superset of A?: False\n"
     ]
    }
   ],
   "source": [
    "A = {34, 56, 78, 90}\n",
    "B = {78, 45, 90, 23}\n",
    "\n",
    "print(\"Union:\", A | B)\n",
    "\n",
    "print(\"Intersection:\", A & B)\n",
    "\n",
    "print(\"Symmetric Difference:\", A ^ B)\n",
    "\n",
    "print(\"Is A subset of B?:\", A.issubset(B))\n",
    "print(\"Is B superset of A?:\", B.issuperset(A))\n",
    "\n",
    "X = int(input(\"Enter a score to remove from A: \"))\n",
    "if X in A:\n",
    "    A.remove(X)\n",
    "    print(f\"{X} removed from A\")\n",
    "else:\n",
    "    print(f\"{X} not found in A\")"
   ]
  },
  {
   "cell_type": "code",
   "execution_count": null,
   "id": "5ca19d6c-b582-41d2-bd30-b74126211793",
   "metadata": {},
   "outputs": [],
   "source": [
    "city_dict = {\"city\": \"New York\", \"country\": \"USA\", \"population\": 8500000}\n",
    "city_dict[\"location\"] = city_dict.pop(\"city\")\n",
    "print(city_dict)\n",
    "\n"
   ]
  },
  {
   "cell_type": "code",
   "execution_count": null,
   "id": "228f5a35-9460-4773-b9c0-64b8ed0d1573",
   "metadata": {},
   "outputs": [],
   "source": []
  }
 ],
 "metadata": {
  "kernelspec": {
   "display_name": "Python 3 (ipykernel)",
   "language": "python",
   "name": "python3"
  },
  "language_info": {
   "codemirror_mode": {
    "name": "ipython",
    "version": 3
   },
   "file_extension": ".py",
   "mimetype": "text/x-python",
   "name": "python",
   "nbconvert_exporter": "python",
   "pygments_lexer": "ipython3",
   "version": "3.11.8"
  }
 },
 "nbformat": 4,
 "nbformat_minor": 5
}
