{
 "cells": [
  {
   "cell_type": "code",
   "execution_count": 57,
   "id": "77434ad2-919c-429c-a9a6-19537b6b7d61",
   "metadata": {},
   "outputs": [
    {
     "name": "stdout",
     "output_type": "stream",
     "text": [
      "1.3838965267367376e-87\n",
      "6.643856189774725\n",
      "0.15425144988758405\n",
      "-0.9880316240928618\n",
      "19.0\n",
      "24\n",
      "23\n"
     ]
    }
   ],
   "source": [
    "import math as m\n",
    "print(m.exp(-200))\n",
    "print(m.log(100,2))\n",
    "print(m.cos(30))\n",
    "print(m.sin(30))\n",
    "print(m.sqrt(361))\n",
    "print(m.ceil(23.4))\n",
    "print(m.floor(23.4))\n"
   ]
  },
  {
   "cell_type": "code",
   "execution_count": 11,
   "id": "d1e80d27-c87f-4483-b1be-d1b41c2aee79",
   "metadata": {},
   "outputs": [
    {
     "name": "stdout",
     "output_type": "stream",
     "text": [
      "0.408245380388792\n",
      "0.9907177545668192\n",
      "0.3873\n",
      "0.889063\n"
     ]
    }
   ],
   "source": [
    "import random as r\n",
    "print(r.random())\n",
    "print(r.random())\n",
    "print(round(r.random(),4))\n",
    "print(round(r.random(),6))"
   ]
  },
  {
   "cell_type": "code",
   "execution_count": 23,
   "id": "19255cba-c636-42f0-8bc9-5539406619fa",
   "metadata": {},
   "outputs": [
    {
     "name": "stdout",
     "output_type": "stream",
     "text": [
      "6\n",
      "-1\n",
      "76.6097568700413\n",
      "26.166\n"
     ]
    }
   ],
   "source": [
    "import random as r\n",
    "print(r.randint(1,100))\n",
    "print(r.randint(-1,1))\n",
    "print(r.uniform(1,100))\n",
    "print(round(r.uniform(1,100),3))"
   ]
  },
  {
   "cell_type": "code",
   "execution_count": 33,
   "id": "0ed66b42-6ce4-42ee-9a1f-e37a47ab86fc",
   "metadata": {},
   "outputs": [
    {
     "name": "stdout",
     "output_type": "stream",
     "text": [
      "[6, 1]\n",
      "[7, 4, 6, 10, 8, 1, 9, 3, 5]\n",
      "[90, 69, 50, 92, 83]\n"
     ]
    }
   ],
   "source": [
    "import random as r\n",
    "A = [1,2,3,4,5,6,7,8,9,10]\n",
    "print(r.sample(A,2))\n",
    "print(r.sample(A,9))\n",
    "print(r.sample(range(10,100),5))\n",
    "\n"
   ]
  },
  {
   "cell_type": "code",
   "execution_count": 49,
   "id": "39b93185-8bff-4b69-800a-18eadc00755a",
   "metadata": {},
   "outputs": [
    {
     "name": "stdout",
     "output_type": "stream",
     "text": [
      "['I', 'B', 'R', 'F', 'n', 'A']\n",
      "IBRFnA\n",
      "I++B++R++F++n++A\n"
     ]
    }
   ],
   "source": [
    "import string as s\n",
    "import random as r\n",
    "\n",
    "password = r.sample(s.ascii_letters,6)\n",
    "print (password)\n",
    "\n",
    "password1  = \"\".join(password)\n",
    "print(password1)\n",
    "\n",
    "password2 = \"++\".join(password)\n",
    "print(password2)"
   ]
  },
  {
   "cell_type": "code",
   "execution_count": 61,
   "id": "b405c34c-2125-4dd8-a66b-57ccae3a80a7",
   "metadata": {},
   "outputs": [
    {
     "name": "stdout",
     "output_type": "stream",
     "text": [
      "['1', '9', '4', '5', '3', '7']\n",
      "194537\n",
      "1_9_4_5_3_7\n"
     ]
    }
   ],
   "source": [
    "import random as r\n",
    "import string as s\n",
    "\n",
    "otp = r.sample(s.digits,6)\n",
    "print(otp)\n",
    "\n",
    "otp1 = \"\".join(otp)\n",
    "print(otp1)\n",
    "\n",
    "otp2 = \"_\".join(otp)\n",
    "print(otp2)"
   ]
  },
  {
   "cell_type": "code",
   "execution_count": 63,
   "id": "c0eeacb2-9c2a-4289-9eda-1ba511d8ae5e",
   "metadata": {},
   "outputs": [
    {
     "name": "stdout",
     "output_type": "stream",
     "text": [
      "['N', '3', '5', 'Q', '7', 'H']\n",
      "N35Q7H\n",
      "N_3_5_Q_7_H\n"
     ]
    }
   ],
   "source": [
    "import random as r\n",
    "import string as s\n",
    "\n",
    "otp = r.sample(s.digits+s.ascii_letters,6)\n",
    "print(otp)\n",
    "\n",
    "otp1 = \"\".join(otp)\n",
    "print(otp1)\n",
    "\n",
    "otp2 = \"_\".join(otp)\n",
    "print(otp2)"
   ]
  },
  {
   "cell_type": "code",
   "execution_count": 3,
   "id": "17aa9c80-c15a-428a-994a-3049920c3774",
   "metadata": {},
   "outputs": [],
   "source": [
    "# STRINGS "
   ]
  },
  {
   "cell_type": "code",
   "execution_count": 9,
   "id": "faae8377-6b4a-437b-9b2b-8096b77c963b",
   "metadata": {},
   "outputs": [
    {
     "name": "stdout",
     "output_type": "stream",
     "text": [
      "hello world\n",
      "h\n",
      "hello\n",
      "w\n",
      "o\n"
     ]
    }
   ],
   "source": [
    "var = \"hello world\"\n",
    "print(var)\n",
    "print(var[0])\n",
    "print(var[0:5])\n",
    "print(var[-5])\n",
    "print(var[-4])"
   ]
  },
  {
   "cell_type": "code",
   "execution_count": 11,
   "id": "2c9c902f-1209-47ff-9b7f-72cdb8e9a5fd",
   "metadata": {},
   "outputs": [
    {
     "name": "stdout",
     "output_type": "stream",
     "text": [
      "11\n",
      "HELLO WORLD\n",
      "hello world\n"
     ]
    }
   ],
   "source": [
    "var = \"Hello World\"\n",
    "print(len(var))\n",
    "print(var.upper())\n",
    "print(var.lower())"
   ]
  },
  {
   "cell_type": "code",
   "execution_count": 15,
   "id": "0d3eae49-73e5-4f06-8848-6763c16eb3a7",
   "metadata": {},
   "outputs": [
    {
     "name": "stdin",
     "output_type": "stream",
     "text": [
      "enter the name:  as\n",
      "enter the age:  23\n",
      "enter the price:  4599\n"
     ]
    },
    {
     "name": "stdout",
     "output_type": "stream",
     "text": [
      "your name is AS ,age is 23 ,price is 4599.000000\n"
     ]
    }
   ],
   "source": [
    "name = input(\"enter the name: \")\n",
    "age = int(input(\"enter the age: \"))\n",
    "price = float(input(\"enter the price: \"))\n",
    "s = \"your name is %s ,age is %d ,price is %f\" % (name.upper(),age,price)\n",
    "print(s)"
   ]
  },
  {
   "cell_type": "code",
   "execution_count": 17,
   "id": "e9964c7b-889a-44e1-a51a-5d2685606b94",
   "metadata": {},
   "outputs": [
    {
     "name": "stdout",
     "output_type": "stream",
     "text": [
      " qwertyuiop asdfghjkl zxvcnmm\n"
     ]
    }
   ],
   "source": [
    "string = \"\"\" qwertyuiop asdfghjkl zxvcnmm\"\"\"\n",
    "print(string)"
   ]
  },
  {
   "cell_type": "code",
   "execution_count": 37,
   "id": "4f0a9bb2-8355-4394-83d8-b5d4d4b011b8",
   "metadata": {},
   "outputs": [
    {
     "name": "stdout",
     "output_type": "stream",
     "text": [
      "indian army    \n",
      "15\n",
      "indian army\n",
      "11\n"
     ]
    }
   ],
   "source": [
    "var  = \"indian army    \"\n",
    "print(var)\n",
    "print(len(var))\n",
    "print(var.strip())\n",
    "print(len(var.strip()))"
   ]
  },
  {
   "cell_type": "code",
   "execution_count": 43,
   "id": "4a672e46-c24f-44f3-9820-0eeb8b9cef7e",
   "metadata": {},
   "outputs": [
    {
     "name": "stdout",
     "output_type": "stream",
     "text": [
      " Indian,  Army  \n",
      "16\n",
      "['Indian,', 'Army']\n",
      "['', 'Indian,', '', 'Army', '', '']\n",
      "[' Indian', '  Army  ']\n"
     ]
    }
   ],
   "source": [
    "var = \" Indian,  Army  \"\n",
    "print(var)\n",
    "print(len(var))\n",
    "print(var.split())\n",
    "print(var.split(' '))\n",
    "print(var.split(','))"
   ]
  },
  {
   "cell_type": "code",
   "execution_count": 45,
   "id": "cf85c734-d675-4b84-994e-948c6cee8302",
   "metadata": {},
   "outputs": [
    {
     "name": "stdout",
     "output_type": "stream",
     "text": [
      "1\n",
      "2\n",
      "1\n"
     ]
    }
   ],
   "source": [
    "var = \"indian army\"\n",
    "print(var.count(' '))\n",
    "print(var.count('a'))\n",
    "print(var.count('an'))"
   ]
  },
  {
   "cell_type": "code",
   "execution_count": 49,
   "id": "06390067-63e3-466b-b6c8-ba0cb9318327",
   "metadata": {},
   "outputs": [
    {
     "name": "stdout",
     "output_type": "stream",
     "text": [
      "Indian army\n",
      "Ida ry\n",
      "ymra naidnI\n",
      "yr adI\n"
     ]
    }
   ],
   "source": [
    "var  = \"Indian army\"\n",
    "print(var[::1])\n",
    "print(var[::2])\n",
    "print(var[::-1])\n",
    "print(var[::-2])\n"
   ]
  },
  {
   "cell_type": "code",
   "execution_count": 55,
   "id": "a97df0b5-d692-4c79-954b-5c9d7e50a476",
   "metadata": {},
   "outputs": [
    {
     "name": "stdout",
     "output_type": "stream",
     "text": [
      "False\n",
      "True\n",
      "False\n",
      "True\n"
     ]
    }
   ],
   "source": [
    "var1 = \"Indian Army\"\n",
    "var2 = \"malayalam\"\n",
    "var3 = \"teacher\"\n",
    "var4 = \"madam\"\n",
    "\n",
    "print(var1==var1[::-1])\n",
    "print(var2==var2[::-1])\n",
    "print(var3==var3[::-1])\n",
    "print(var4==var4[::-1])\n",
    "\n",
    "      "
   ]
  },
  {
   "cell_type": "code",
   "execution_count": null,
   "id": "b4b040a0-779c-4add-9cc7-383dfde99ca0",
   "metadata": {},
   "outputs": [],
   "source": [
    "# FIUNCTIONS"
   ]
  },
  {
   "cell_type": "code",
   "execution_count": 59,
   "id": "e2623e32-2074-4ca0-a97b-b0d7dabcaa30",
   "metadata": {},
   "outputs": [
    {
     "name": "stdout",
     "output_type": "stream",
     "text": [
      "6\n",
      "8\n"
     ]
    }
   ],
   "source": [
    "def add(a,b):\n",
    "    c = a+b\n",
    "    return c\n",
    "\n",
    "print(add(2,4))\n",
    "print(add(3,5))"
   ]
  },
  {
   "cell_type": "code",
   "execution_count": 61,
   "id": "db169ce2-7f79-44d0-8d04-21734fab39ed",
   "metadata": {},
   "outputs": [
    {
     "name": "stdout",
     "output_type": "stream",
     "text": [
      "0\n",
      "1\n"
     ]
    }
   ],
   "source": [
    "def isprime(n):\n",
    "    for i in range(2,n//2+1):\n",
    "        if n%i ==0:\n",
    "            return 0\n",
    "    return 1\n",
    "\n",
    "print(isprime(12))\n",
    "print(isprime(47))"
   ]
  },
  {
   "cell_type": "code",
   "execution_count": 67,
   "id": "c2c122d3-f6d1-4149-bf21-ff7442a7a17c",
   "metadata": {},
   "outputs": [
    {
     "name": "stdout",
     "output_type": "stream",
     "text": [
      "55\n",
      "499500\n"
     ]
    }
   ],
   "source": [
    "def addn(n):\n",
    "    s = sum(range(n+1))\n",
    "    return s\n",
    "\n",
    "print(addn(10))\n",
    "print(addn(999))"
   ]
  },
  {
   "cell_type": "code",
   "execution_count": 73,
   "id": "7396e8fc-848e-4fda-9913-f6fcef367d50",
   "metadata": {},
   "outputs": [
    {
     "name": "stdout",
     "output_type": "stream",
     "text": [
      "9\n",
      "4\n"
     ]
    }
   ],
   "source": [
    "def add_odd_num(n):\n",
    "    s = 0\n",
    "    for i in range(n+1):\n",
    "        if i%2 != 0:\n",
    "            s += i\n",
    "    return s\n",
    "\n",
    "print(add_odd_num(5))\n",
    "print(add_odd_num(3))        "
   ]
  },
  {
   "cell_type": "code",
   "execution_count": 81,
   "id": "732a1374-a535-443e-aa45-5e404c11b0b8",
   "metadata": {},
   "outputs": [
    {
     "name": "stdout",
     "output_type": "stream",
     "text": [
      "10\n"
     ]
    }
   ],
   "source": [
    "def is_prime(n):\n",
    "    if n<2 :\n",
    "        return True\n",
    "    for i in range(2,int(n/2)+1):\n",
    "        if n%i==0 :\n",
    "            return False\n",
    "    return True\n",
    "    \n",
    "def add_odd_num(n):\n",
    "    s = 0\n",
    "    for i in range(2,n+1):\n",
    "        if is_prime(i):\n",
    "            s += i\n",
    "    return s\n",
    "\n",
    "print(add_odd_num(5))"
   ]
  },
  {
   "cell_type": "code",
   "execution_count": 1,
   "id": "cfba27f6-05fb-4297-b36b-7d7f561f1377",
   "metadata": {},
   "outputs": [],
   "source": [
    "# IF - ELSe"
   ]
  },
  {
   "cell_type": "code",
   "execution_count": 11,
   "id": "ab44f85b-1c5f-4075-89c7-35a937ee8e91",
   "metadata": {},
   "outputs": [
    {
     "name": "stdin",
     "output_type": "stream",
     "text": [
      "Enter First No:  2\n",
      "Enter Second No:  3\n"
     ]
    },
    {
     "name": "stdout",
     "output_type": "stream",
     "text": [
      "2  <  3\n"
     ]
    }
   ],
   "source": [
    "a = int(input(\"Enter First No: \"))\n",
    "b = int(input(\"Enter Second No: \"))\n",
    "if  a > b:\n",
    "\tprint (a,\" > \",b)\n",
    "else:\n",
    "\tprint (a,\" < \",b)"
   ]
  },
  {
   "cell_type": "code",
   "execution_count": 13,
   "id": "d046221e-594f-49a1-8c25-0e325f9e69b9",
   "metadata": {},
   "outputs": [
    {
     "name": "stdin",
     "output_type": "stream",
     "text": [
      "Enter a No:  3\n"
     ]
    },
    {
     "name": "stdout",
     "output_type": "stream",
     "text": [
      "3  is odd\n"
     ]
    }
   ],
   "source": [
    "n = int(input(\"Enter a No: \"))\n",
    "if  n % 2 == 0:\n",
    "\tprint (n,\" is even\")\n",
    "else:\n",
    "\tprint (n,\" is odd\")"
   ]
  },
  {
   "cell_type": "code",
   "execution_count": 15,
   "id": "001d4185-65da-478a-9461-7c231d7bf556",
   "metadata": {},
   "outputs": [
    {
     "name": "stdin",
     "output_type": "stream",
     "text": [
      "Enter a No:  27\n"
     ]
    },
    {
     "name": "stdout",
     "output_type": "stream",
     "text": [
      "Not Prime\n"
     ]
    }
   ],
   "source": [
    "n = int(input(\"Enter a No: \"))\n",
    "f=0\n",
    "for i in range(2, n//2 + 1):\n",
    "\tif  n % i == 0:\n",
    "\t\tf=1\n",
    "\t\tbreak\n",
    "\n",
    "if f==0:\n",
    "\tprint (\"Prime\")\n",
    "else:\n",
    "\tprint (\"Not Prime\")"
   ]
  },
  {
   "cell_type": "code",
   "execution_count": 17,
   "id": "d168664a-0113-43f2-b700-b4b36f743e46",
   "metadata": {},
   "outputs": [
    {
     "name": "stdin",
     "output_type": "stream",
     "text": [
      "Enter First String :  qwe\n",
      "Enter Second String:  edsewd\n"
     ]
    },
    {
     "name": "stdout",
     "output_type": "stream",
     "text": [
      "a > b\n"
     ]
    }
   ],
   "source": [
    "a = input(\"Enter First String : \")\n",
    "b = input(\"Enter Second String: \")\n",
    "\n",
    "if a == b:\n",
    "\tprint (\"a == b\")\n",
    "elif a >= b:\n",
    "\tprint (\"a > b\")\n",
    "else:\n",
    "\tprint (\"a < b\")"
   ]
  },
  {
   "cell_type": "code",
   "execution_count": 19,
   "id": "96da2d41-813b-45f5-9be4-96cda91b01c2",
   "metadata": {},
   "outputs": [
    {
     "name": "stdin",
     "output_type": "stream",
     "text": [
      "enter the 1st number: 2\n",
      "enter the 2nd number: 3\n",
      "enter the 3rd number: 4\n"
     ]
    },
    {
     "name": "stdout",
     "output_type": "stream",
     "text": [
      "c\n"
     ]
    }
   ],
   "source": [
    "a = int(input(\"enter the 1st number:\"))\n",
    "b = int(input(\"enter the 2nd number:\"))\n",
    "c = int(input(\"enter the 3rd number:\"))\n",
    "\n",
    "if a>=b :\n",
    "    if a>=c:\n",
    "        print(\"a\")\n",
    "    else:\n",
    "        print(\"c\")\n",
    "else :\n",
    "    if b>=c:\n",
    "        print(\"b\")\n",
    "    else:\n",
    "        print(\"c\")\n",
    "        "
   ]
  },
  {
   "cell_type": "code",
   "execution_count": 23,
   "id": "5a51bfa3-7490-46bc-8f95-bf45d48892c0",
   "metadata": {},
   "outputs": [
    {
     "name": "stdout",
     "output_type": "stream",
     "text": [
      "16\n"
     ]
    }
   ],
   "source": [
    "def number(n):\n",
    "    sum = 0\n",
    "    for i in range (0,n+1):\n",
    "        if i%7==0 or i%9==0 :\n",
    "            sum +=i\n",
    "    for i in range (0,n+1):\n",
    "        if i%63 == 0:\n",
    "            sum-=i\n",
    "    return sum\n",
    "\n",
    "print(number(10))\n",
    "        "
   ]
  },
  {
   "cell_type": "code",
   "execution_count": 5,
   "id": "84189757-e715-40ce-91e1-14569ab2be89",
   "metadata": {},
   "outputs": [
    {
     "name": "stdout",
     "output_type": "stream",
     "text": [
      "5 * 0 = 0\n",
      "5 * 1 = 5\n",
      "5 * 2 = 10\n",
      "5 * 3 = 15\n",
      "5 * 4 = 20\n",
      "5 * 5 = 25\n",
      "5 * 6 = 30\n",
      "5 * 7 = 35\n",
      "5 * 8 = 40\n",
      "5 * 9 = 45\n",
      "5 * 10 = 50\n",
      "None\n"
     ]
    }
   ],
   "source": [
    "def table(n):\n",
    "    for i in range(0,11):\n",
    "        print(n, \"*\",i,\"=\",i*n)\n",
    "\n",
    "print(table(5))\n",
    "    "
   ]
  },
  {
   "cell_type": "code",
   "execution_count": 7,
   "id": "24dc07f7-4176-4bca-ba26-820ad437ca4d",
   "metadata": {},
   "outputs": [],
   "source": [
    "# EXCEPTION HANDLING"
   ]
  },
  {
   "cell_type": "code",
   "execution_count": 15,
   "id": "231adbbf-3be3-4c80-96c9-ca362eb14c6a",
   "metadata": {},
   "outputs": [
    {
     "name": "stdout",
     "output_type": "stream",
     "text": [
      "-20.0\n",
      "-25.0\n",
      "-33.333333333333336\n",
      "-50.0\n",
      "-100.0\n"
     ]
    },
    {
     "ename": "ZeroDivisionError",
     "evalue": "division by zero",
     "output_type": "error",
     "traceback": [
      "\u001b[0;31m---------------------------------------------------------------------------\u001b[0m",
      "\u001b[0;31mZeroDivisionError\u001b[0m                         Traceback (most recent call last)",
      "Cell \u001b[0;32mIn[15], line 2\u001b[0m\n\u001b[1;32m      1\u001b[0m \u001b[38;5;28;01mfor\u001b[39;00m i \u001b[38;5;129;01min\u001b[39;00m \u001b[38;5;28mrange\u001b[39m(\u001b[38;5;241m-\u001b[39m\u001b[38;5;241m5\u001b[39m,\u001b[38;5;241m6\u001b[39m):\n\u001b[0;32m----> 2\u001b[0m     \u001b[38;5;28mprint\u001b[39m(\u001b[38;5;241m100\u001b[39m\u001b[38;5;241m/\u001b[39mi)\n",
      "\u001b[0;31mZeroDivisionError\u001b[0m: division by zero"
     ]
    }
   ],
   "source": [
    "for i in range(-5,6):\n",
    "    print(100/i)"
   ]
  },
  {
   "cell_type": "code",
   "execution_count": 17,
   "id": "9f41d378-bfc3-4e99-aa85-7ce9b05fc53f",
   "metadata": {},
   "outputs": [
    {
     "name": "stdout",
     "output_type": "stream",
     "text": [
      "-20.0\n",
      "-25.0\n",
      "-33.333333333333336\n",
      "-50.0\n",
      "-100.0\n",
      "error\n",
      "100.0\n",
      "50.0\n",
      "33.333333333333336\n",
      "25.0\n",
      "20.0\n"
     ]
    }
   ],
   "source": [
    "for i in range(-5,6):\n",
    "    try:\n",
    "        print(100/i)\n",
    "    except:\n",
    "        print(\"error\")\n",
    "    "
   ]
  },
  {
   "cell_type": "code",
   "execution_count": 19,
   "id": "9d411617-86fe-4119-a180-7a4444b19fea",
   "metadata": {},
   "outputs": [
    {
     "name": "stdout",
     "output_type": "stream",
     "text": [
      "1\n",
      "2\n",
      "3\n",
      "4\n",
      "5\n",
      "6\n",
      "error\n",
      "error\n"
     ]
    }
   ],
   "source": [
    "l = [1,2,3,4,5,6]\n",
    "for i in range(0,8):\n",
    "    try:\n",
    "        print(l[i])\n",
    "    except:\n",
    "        print(\"error\")"
   ]
  },
  {
   "cell_type": "code",
   "execution_count": 23,
   "id": "88f7ec5f-56b0-4ee5-8716-54543a5f1007",
   "metadata": {},
   "outputs": [
    {
     "name": "stdin",
     "output_type": "stream",
     "text": [
      "enter teh file name: skill.term\n"
     ]
    },
    {
     "ename": "FileNotFoundError",
     "evalue": "[Errno 2] No such file or directory: 'skill.term'",
     "output_type": "error",
     "traceback": [
      "\u001b[0;31m---------------------------------------------------------------------------\u001b[0m",
      "\u001b[0;31mFileNotFoundError\u001b[0m                         Traceback (most recent call last)",
      "Cell \u001b[0;32mIn[23], line 2\u001b[0m\n\u001b[1;32m      1\u001b[0m filename \u001b[38;5;241m=\u001b[39m \u001b[38;5;28minput\u001b[39m(\u001b[38;5;124m\"\u001b[39m\u001b[38;5;124menter teh file name:\u001b[39m\u001b[38;5;124m\"\u001b[39m)\n\u001b[0;32m----> 2\u001b[0m fp \u001b[38;5;241m=\u001b[39m \u001b[38;5;28mopen\u001b[39m(filename)\n\u001b[1;32m      3\u001b[0m fp\u001b[38;5;241m.\u001b[39mclose()\n\u001b[1;32m      4\u001b[0m \u001b[38;5;28mprint\u001b[39m(\u001b[38;5;124m\"\u001b[39m\u001b[38;5;124mdone\u001b[39m\u001b[38;5;124m\"\u001b[39m)\n",
      "File \u001b[0;32m/opt/anaconda3/lib/python3.11/site-packages/IPython/core/interactiveshell.py:310\u001b[0m, in \u001b[0;36m_modified_open\u001b[0;34m(file, *args, **kwargs)\u001b[0m\n\u001b[1;32m    303\u001b[0m \u001b[38;5;28;01mif\u001b[39;00m file \u001b[38;5;129;01min\u001b[39;00m {\u001b[38;5;241m0\u001b[39m, \u001b[38;5;241m1\u001b[39m, \u001b[38;5;241m2\u001b[39m}:\n\u001b[1;32m    304\u001b[0m     \u001b[38;5;28;01mraise\u001b[39;00m \u001b[38;5;167;01mValueError\u001b[39;00m(\n\u001b[1;32m    305\u001b[0m         \u001b[38;5;124mf\u001b[39m\u001b[38;5;124m\"\u001b[39m\u001b[38;5;124mIPython won\u001b[39m\u001b[38;5;124m'\u001b[39m\u001b[38;5;124mt let you open fd=\u001b[39m\u001b[38;5;132;01m{\u001b[39;00mfile\u001b[38;5;132;01m}\u001b[39;00m\u001b[38;5;124m by default \u001b[39m\u001b[38;5;124m\"\u001b[39m\n\u001b[1;32m    306\u001b[0m         \u001b[38;5;124m\"\u001b[39m\u001b[38;5;124mas it is likely to crash IPython. If you know what you are doing, \u001b[39m\u001b[38;5;124m\"\u001b[39m\n\u001b[1;32m    307\u001b[0m         \u001b[38;5;124m\"\u001b[39m\u001b[38;5;124myou can use builtins\u001b[39m\u001b[38;5;124m'\u001b[39m\u001b[38;5;124m open.\u001b[39m\u001b[38;5;124m\"\u001b[39m\n\u001b[1;32m    308\u001b[0m     )\n\u001b[0;32m--> 310\u001b[0m \u001b[38;5;28;01mreturn\u001b[39;00m io_open(file, \u001b[38;5;241m*\u001b[39margs, \u001b[38;5;241m*\u001b[39m\u001b[38;5;241m*\u001b[39mkwargs)\n",
      "\u001b[0;31mFileNotFoundError\u001b[0m: [Errno 2] No such file or directory: 'skill.term'"
     ]
    }
   ],
   "source": [
    "filename = input(\"enter teh file name:\")\n",
    "fp = open(filename)\n",
    "fp.close()\n",
    "print(\"done\")"
   ]
  },
  {
   "cell_type": "code",
   "execution_count": 25,
   "id": "6b3ec90d-2ea5-49ee-88d4-062d6b6941d3",
   "metadata": {},
   "outputs": [
    {
     "name": "stdin",
     "output_type": "stream",
     "text": [
      "enter teh file name: sd\n"
     ]
    },
    {
     "name": "stdout",
     "output_type": "stream",
     "text": [
      "file not found\n",
      "done\n"
     ]
    }
   ],
   "source": [
    "filename = input(\"enter teh file name:\")\n",
    "try:\n",
    "    fp = open(filename)\n",
    "    fp.close()\n",
    "except:\n",
    "    print(\"file not found\")\n",
    "print(\"done\")"
   ]
  },
  {
   "cell_type": "code",
   "execution_count": 32,
   "id": "10a77fea-3b1e-4f42-97e4-963e96b6ddc6",
   "metadata": {},
   "outputs": [],
   "source": [
    "#  LIST "
   ]
  },
  {
   "cell_type": "code",
   "execution_count": 36,
   "id": "6a1b47e7-520f-4d08-b56a-9ffe4da68141",
   "metadata": {},
   "outputs": [
    {
     "name": "stdout",
     "output_type": "stream",
     "text": [
      "['tanmay', 'singh', 20, 72]\n",
      "4\n"
     ]
    }
   ],
   "source": [
    "l = [\"tanmay\" , \"singh\",20,72]\n",
    "print(l)\n",
    "print(len(l))"
   ]
  },
  {
   "cell_type": "code",
   "execution_count": 38,
   "id": "3c47cfbc-6b25-4fd6-a56d-f5027f01b02f",
   "metadata": {},
   "outputs": [
    {
     "name": "stdout",
     "output_type": "stream",
     "text": [
      "tanmay\n",
      "singh\n",
      "20\n",
      "72\n"
     ]
    }
   ],
   "source": [
    "l = [\"tanmay\" , \"singh\",20,72]\n",
    "i=0\n",
    "while(i<len(l)):\n",
    "    print(l[i])\n",
    "    i+=1"
   ]
  },
  {
   "cell_type": "code",
   "execution_count": 40,
   "id": "55df4114-011f-456d-8413-97496fca9747",
   "metadata": {},
   "outputs": [
    {
     "name": "stdout",
     "output_type": "stream",
     "text": [
      "Original List:  ['Pratham', 'Sharma', 3.14, 3]\n",
      "Pratham\n",
      "Sharma\n",
      "3.14\n",
      "3\n"
     ]
    }
   ],
   "source": [
    "L = [\"Pratham\",  'Sharma', 3.14,  3 ]\n",
    "print (\"Original List: \", L)\n",
    "for i in range(0, len(L)):\n",
    "\tprint (L[i])"
   ]
  },
  {
   "cell_type": "code",
   "execution_count": 42,
   "id": "190d5f84-0016-4354-9539-913ab7b850d8",
   "metadata": {},
   "outputs": [
    {
     "name": "stdout",
     "output_type": "stream",
     "text": [
      "Pratham\n",
      "Sharma\n",
      "3.14\n",
      "3\n"
     ]
    }
   ],
   "source": [
    "L = [\"Pratham\",  'Sharma', 3.14,  3 ]\n",
    "for i in L:\n",
    "    print(i)"
   ]
  },
  {
   "cell_type": "code",
   "execution_count": 50,
   "id": "28f66557-eeec-45df-ac37-9d433064870f",
   "metadata": {},
   "outputs": [
    {
     "name": "stdout",
     "output_type": "stream",
     "text": [
      "['tanmay', 'singh', 20, 72, 'qwe']\n",
      "['tanmay', 'singh', 20, 72, 'qwe', 2]\n",
      "['singh', 20, 72, 'qwe', 2]\n"
     ]
    }
   ],
   "source": [
    "l = [\"tanmay\" ,\"singh\" ,20 ,72]\n",
    "l.append(\"qwe\")\n",
    "print(l)\n",
    "\n",
    "l.append(2)\n",
    "print(l)\n",
    "\n",
    "del l[0]\n",
    "print(l)"
   ]
  },
  {
   "cell_type": "code",
   "execution_count": 67,
   "id": "531e9c10-8d27-4b8d-95fb-e3febf40f031",
   "metadata": {},
   "outputs": [
    {
     "name": "stdout",
     "output_type": "stream",
     "text": [
      "sum of elements of list: 32\n",
      "average: 5.333333333333333\n",
      "5\n"
     ]
    }
   ],
   "source": [
    "l = [1,3,5,6,8,9]\n",
    "print(\"sum of elements of list:\",sum(l))\n",
    "print(\"average:\",sum(l)/len(l))\n",
    "print(sum(l)//len(l))"
   ]
  },
  {
   "cell_type": "code",
   "execution_count": 81,
   "id": "4d05d7c0-ce84-48ad-b207-07ef948baba1",
   "metadata": {},
   "outputs": [
    {
     "name": "stdout",
     "output_type": "stream",
     "text": [
      "78\n",
      "2\n",
      "[2, 3, 5, 6, 7, 9, 36, 46, 78]\n",
      "[78, 46, 36, 9, 7, 6, 5, 3, 2]\n"
     ]
    }
   ],
   "source": [
    "l = [2,5,3,6,78,36,46,7,9]\n",
    "print(max(l))\n",
    "print(min(l))\n",
    "l.sort()\n",
    "print(l)\n",
    "l.sort(reverse=True)\n",
    "print(l)"
   ]
  },
  {
   "cell_type": "code",
   "execution_count": 93,
   "id": "9e2aa8f0-cee5-465d-82be-42f3c3667703",
   "metadata": {},
   "outputs": [
    {
     "name": "stdout",
     "output_type": "stream",
     "text": [
      "[1, 3, 5, 7, 9, 2, 4, 6, 8]\n",
      "[5, 7, 9, 2, 4, 6, 8]\n",
      "[3, 5, 7, 9, 2]\n",
      "[1, 3, 5, 7, 9, 2, 4, 6]\n",
      "[1, 5, 9, 4, 8]\n"
     ]
    }
   ],
   "source": [
    "l1= [1,3,5,7,9]\n",
    "l2= [2,4,6,8]\n",
    "l3=l1+l2\n",
    "\n",
    "print(l3)\n",
    "print(l3[2:])\n",
    "print(l3[1:6])\n",
    "print(l3[:-1])\n",
    "print(l3[::2])"
   ]
  },
  {
   "cell_type": "code",
   "execution_count": 97,
   "id": "da9f0d65-50af-4034-9375-af1de6a4a2a7",
   "metadata": {},
   "outputs": [
    {
     "name": "stdout",
     "output_type": "stream",
     "text": [
      "[5, 10, 15, 20, 25]\n"
     ]
    }
   ],
   "source": [
    "l =[1,2,3,4,5]\n",
    "newl= [5*i for i in l]\n",
    "print(newl)"
   ]
  },
  {
   "cell_type": "code",
   "execution_count": 103,
   "id": "33894f11-44bc-450d-bc6b-cf6d852118ed",
   "metadata": {},
   "outputs": [
    {
     "name": "stdout",
     "output_type": "stream",
     "text": [
      "Original List -->  True\n",
      "Original List -->  False\n",
      "Original List -->  True\n",
      "Present\n",
      "Present\n"
     ]
    }
   ],
   "source": [
    "\n",
    "L=[3, 6, 9, 12, 5, 3, 2]\n",
    "print (\"Original List --> \", 6 in L)\n",
    "print (\"Original List --> \", 10 in L)\n",
    "print (\"Original List --> \", 12 in L)\n",
    "\n",
    "if (6 in L) == True:\n",
    "\tprint (\"Present\")\n",
    "else:\n",
    "\tprint (\"Not Present\")\n",
    "\n",
    "if 10 in L == False:\n",
    "\tprint (\"Not Present\")\n",
    "else:\n",
    "\tprint (\"Present\")"
   ]
  },
  {
   "cell_type": "code",
   "execution_count": null,
   "id": "0c25c7e9-2fc4-455e-b0eb-a49cdf9f7741",
   "metadata": {},
   "outputs": [],
   "source": [
    "# DICTIONARY"
   ]
  },
  {
   "cell_type": "code",
   "execution_count": 113,
   "id": "cfe89004-6c05-49ab-8879-2fce999779b1",
   "metadata": {},
   "outputs": [
    {
     "name": "stdout",
     "output_type": "stream",
     "text": [
      "{1: 23, 2: 12, 3: 28}\n",
      "3\n",
      "23\n",
      "28\n"
     ]
    }
   ],
   "source": [
    "age={1:23,2:12,3:28}\n",
    "print(age)\n",
    "print(len(age))\n",
    "print(age[1])\n",
    "print(age[3])"
   ]
  },
  {
   "cell_type": "code",
   "execution_count": 121,
   "id": "addcb91a-4b95-4372-b7d6-6e84d710c33c",
   "metadata": {},
   "outputs": [
    {
     "name": "stdout",
     "output_type": "stream",
     "text": [
      "23\n",
      "12\n",
      "28\n",
      "[1, 2, 3]\n",
      "[23, 12, 28]\n"
     ]
    }
   ],
   "source": [
    "age={1:23,2:12,3:28}\n",
    "for k in age:\n",
    "    print(age[k])\n",
    "\n",
    "print(list(age.keys()))\n",
    "print(list(age.values()))"
   ]
  },
  {
   "cell_type": "code",
   "execution_count": 137,
   "id": "6e619f62-7581-4a5d-8902-f2affeea87c2",
   "metadata": {},
   "outputs": [
    {
     "name": "stdout",
     "output_type": "stream",
     "text": [
      "{1: 25, 2: 12, 3: 28, 4: 45, 5: 29}\n",
      "{1: 25, 3: 28, 4: 45, 5: 29}\n",
      "{}\n"
     ]
    }
   ],
   "source": [
    "age={1:23,2:12,3:28,4:19,5:29}\n",
    "age[4]=45\n",
    "age[1]=25\n",
    "\n",
    "print(age)\n",
    "del(age[2])\n",
    "print(age)\n",
    "age.clear()\n",
    "print(age)\n",
    "del age"
   ]
  },
  {
   "cell_type": "code",
   "execution_count": 139,
   "id": "bc110b08-5e19-4b3b-827f-a5ce9eb93dce",
   "metadata": {},
   "outputs": [
    {
     "name": "stdout",
     "output_type": "stream",
     "text": [
      "True\n",
      "False\n"
     ]
    }
   ],
   "source": [
    "age={1:23,2:12,3:28,4:19,5:29}\n",
    "print(2 in age)\n",
    "print(9 in age)"
   ]
  },
  {
   "cell_type": "code",
   "execution_count": 141,
   "id": "30ee6f38-4bb1-4cec-943b-61e42121b910",
   "metadata": {},
   "outputs": [
    {
     "name": "stdout",
     "output_type": "stream",
     "text": [
      "23\n",
      "28\n",
      "29\n"
     ]
    }
   ],
   "source": [
    "age={1:23,2:12,3:28,4:19,5:29}\n",
    "\n",
    "print(age[1])\n",
    "print(age[3])\n",
    "print(age[5])"
   ]
  },
  {
   "cell_type": "code",
   "execution_count": 152,
   "id": "9eec07f1-d1ca-4c58-8047-ae515ec2163c",
   "metadata": {},
   "outputs": [
    {
     "name": "stdout",
     "output_type": "stream",
     "text": [
      "23\n",
      "12\n",
      "28\n",
      "19\n",
      "29\n",
      "<class 'dict'>\n"
     ]
    }
   ],
   "source": [
    "age={1:23,2:12,3:28,4:19,5:29}\n",
    "\n",
    "for i in age:\n",
    "    print(age[i])\n",
    "\n",
    "print(type(age))"
   ]
  },
  {
   "cell_type": "code",
   "execution_count": 145,
   "id": "6aaa6206-a868-4c97-b18f-b8ae1bfd2ff9",
   "metadata": {},
   "outputs": [],
   "source": [
    "# TUPLES"
   ]
  },
  {
   "cell_type": "code",
   "execution_count": 150,
   "id": "75753647-ce1b-4008-b4de-58707588b3d7",
   "metadata": {},
   "outputs": [
    {
     "name": "stdout",
     "output_type": "stream",
     "text": [
      "('tanmay', 'singh', 20, 72)\n"
     ]
    }
   ],
   "source": [
    "t = (\"tanmay\", \"singh\", 20, 72)\n",
    "print(t)"
   ]
  },
  {
   "cell_type": "code",
   "execution_count": 154,
   "id": "996d05b8-59bc-40d4-a7a6-561a95539dc4",
   "metadata": {},
   "outputs": [
    {
     "name": "stdout",
     "output_type": "stream",
     "text": [
      "4\n",
      "<class 'tuple'>\n"
     ]
    }
   ],
   "source": [
    "t= tuple([\"tanmay\", \"singh\", 20, 72])\n",
    "print(len(t))\n",
    "print(type(t))"
   ]
  },
  {
   "cell_type": "code",
   "execution_count": 158,
   "id": "cc5faba7-6bfb-4fba-bbcf-1b86c2e02433",
   "metadata": {},
   "outputs": [
    {
     "name": "stdout",
     "output_type": "stream",
     "text": [
      "tanmay\n",
      "singh\n",
      "20\n",
      "72\n"
     ]
    }
   ],
   "source": [
    "t = (\"tanmay\", \"singh\", 20, 72)\n",
    "i=0\n",
    "while(i<len(t)):\n",
    "    print(t[i])\n",
    "    i+=1"
   ]
  },
  {
   "cell_type": "code",
   "execution_count": 164,
   "id": "9781a380-264a-443e-a1b9-8be9b5b125a5",
   "metadata": {},
   "outputs": [
    {
     "name": "stdout",
     "output_type": "stream",
     "text": [
      "tanmay\n",
      "singh\n",
      "20\n",
      "72\n"
     ]
    }
   ],
   "source": [
    "t = (\"tanmay\", \"singh\", 20, 72)\n",
    "for i in range(0,len(t)):\n",
    "    print(t[i])\n"
   ]
  },
  {
   "cell_type": "code",
   "execution_count": 171,
   "id": "eec98456-0c91-464e-b261-0879b27a5ade",
   "metadata": {},
   "outputs": [
    {
     "name": "stdout",
     "output_type": "stream",
     "text": [
      "tanmay\n",
      "singh\n",
      "20\n",
      "72\n"
     ]
    }
   ],
   "source": [
    "t = (\"tanmay\", \"singh\", 20, 72)\n",
    "for s in t:\n",
    "    print(s)"
   ]
  },
  {
   "cell_type": "code",
   "execution_count": 173,
   "id": "65e97e90-75ac-47f9-8599-72b2e1d83ee6",
   "metadata": {},
   "outputs": [
    {
     "name": "stdout",
     "output_type": "stream",
     "text": [
      "2\n",
      "4\n",
      "0\n",
      "9\n"
     ]
    }
   ],
   "source": [
    "t = (1,2,3,4,5,6,7,8,9,0)\n",
    "print(t[1])\n",
    "print(t[3])\n",
    "print(t[-1])\n",
    "print(t[-2])"
   ]
  },
  {
   "cell_type": "code",
   "execution_count": 183,
   "id": "24857eaa-dcca-4ba3-95aa-12f5aa986a9a",
   "metadata": {},
   "outputs": [
    {
     "name": "stdout",
     "output_type": "stream",
     "text": [
      "(2, 3)\n",
      "(3, 4, 5, 6, 7, 8, 9, 0)\n",
      "(3, 4, 5)\n",
      "(1, 2)\n",
      "(1, 2, 3, 4, 5, 6, 7, 8, 9)\n",
      "(7, 8, 9)\n"
     ]
    }
   ],
   "source": [
    "t = (1,2,3,4,5,6,7,8,9,0)\n",
    "print(t[1:3])\n",
    "print(t[2:])\n",
    "print(t[2:5])\n",
    "print(t[:2])\n",
    "print(t[:-1])\n",
    "print(t[-4:-1])"
   ]
  },
  {
   "cell_type": "code",
   "execution_count": 193,
   "id": "dfaabae6-21bd-450a-a12f-8c7a90d89638",
   "metadata": {},
   "outputs": [
    {
     "name": "stdout",
     "output_type": "stream",
     "text": [
      "(1, 2, 3, 4, 5, 6, 7, 8, 9, 0)\n",
      "45\n",
      "4.5\n",
      "4\n",
      "9\n",
      "0\n"
     ]
    }
   ],
   "source": [
    "t = (1,2,3,4,5,6,7,8,9,0)\n",
    "print(t)\n",
    "print(sum(t))\n",
    "print(sum(t)/len(t))\n",
    "print(sum(t)//len(t))\n",
    "print(max(t))\n",
    "print(min(t))"
   ]
  },
  {
   "cell_type": "code",
   "execution_count": 199,
   "id": "f7b34649-484a-426c-b304-923663750975",
   "metadata": {},
   "outputs": [
    {
     "name": "stdout",
     "output_type": "stream",
     "text": [
      "tanmay\n",
      "asd\n"
     ]
    }
   ],
   "source": [
    "t = (\"tanmay\", \"singh\", \"qwer\", \"asd\")\n",
    "print(max(t))\n",
    "print(min(t))"
   ]
  },
  {
   "cell_type": "code",
   "execution_count": 207,
   "id": "c2f45faf-d777-4da7-b219-2fcec0cbef44",
   "metadata": {},
   "outputs": [
    {
     "name": "stdout",
     "output_type": "stream",
     "text": [
      "(5, 6, 7, 8, 1, 2, 3, 4)\n",
      "(5, 6, 7, 8, 1, 2, 3, 4, 1, 2, 3, 4, 5, 6, 7, 8)\n"
     ]
    }
   ],
   "source": [
    "t1 = (1,2,3,4)\n",
    "t2 = (5,6,7,8)\n",
    "t3 = t2+t1\n",
    "print(t3)\n",
    "t4 = t3+t1+t2\n",
    "print(t4)"
   ]
  },
  {
   "cell_type": "code",
   "execution_count": 209,
   "id": "e080846a-99be-481a-b907-efdcfc78a1ec",
   "metadata": {},
   "outputs": [
    {
     "name": "stdout",
     "output_type": "stream",
     "text": [
      "True\n",
      "True\n",
      "False\n"
     ]
    }
   ],
   "source": [
    "t = (1,2,3,4,5,0)\n",
    "print(2 in t)\n",
    "print(5 in t)\n",
    "print(8 in t)"
   ]
  },
  {
   "cell_type": "code",
   "execution_count": 213,
   "id": "4eff7a51-a4f8-4d86-a470-7750c36f491a",
   "metadata": {},
   "outputs": [
    {
     "ename": "TypeError",
     "evalue": "'tuple' object does not support item assignment",
     "output_type": "error",
     "traceback": [
      "\u001b[0;31m---------------------------------------------------------------------------\u001b[0m",
      "\u001b[0;31mTypeError\u001b[0m                                 Traceback (most recent call last)",
      "Cell \u001b[0;32mIn[213], line 2\u001b[0m\n\u001b[1;32m      1\u001b[0m t \u001b[38;5;241m=\u001b[39m (\u001b[38;5;241m1\u001b[39m,\u001b[38;5;241m2\u001b[39m,\u001b[38;5;241m3\u001b[39m,\u001b[38;5;241m4\u001b[39m,\u001b[38;5;241m5\u001b[39m,\u001b[38;5;241m0\u001b[39m)\n\u001b[0;32m----> 2\u001b[0m t[\u001b[38;5;241m2\u001b[39m]\u001b[38;5;241m=\u001b[39m\u001b[38;5;241m9\u001b[39m\n\u001b[1;32m      3\u001b[0m \u001b[38;5;28mprint\u001b[39m(t)\n",
      "\u001b[0;31mTypeError\u001b[0m: 'tuple' object does not support item assignment"
     ]
    }
   ],
   "source": [
    "t = (1,2,3,4,5,0)\n",
    "t[2]=9\n",
    "print(t)"
   ]
  },
  {
   "cell_type": "code",
   "execution_count": 215,
   "id": "c8b3ad1c-905c-4266-9230-3a6bf0deb6c2",
   "metadata": {},
   "outputs": [
    {
     "name": "stdout",
     "output_type": "stream",
     "text": [
      "(1, 2, 3, 4, 5, 0)\n",
      "(1, 2, 3, 4, 5, 0, 'abc')\n"
     ]
    }
   ],
   "source": [
    "t = (1,2,3,4,5,0)\n",
    "print(t)\n",
    "\n",
    "t1 = list(t)\n",
    "t1.append(\"abc\")\n",
    "t = tuple(t1)\n",
    "\n",
    "print(t)"
   ]
  },
  {
   "cell_type": "code",
   "execution_count": 221,
   "id": "fa2d3ff9-7abb-455f-b5f0-5c9beebe2567",
   "metadata": {},
   "outputs": [
    {
     "name": "stdout",
     "output_type": "stream",
     "text": [
      "(1, 2, 3, 4, 5, 0)\n",
      "(1, 2, 3, 4, 5, 0, 'abc')\n"
     ]
    }
   ],
   "source": [
    "t = (1,2,3,4,5,0)\n",
    "print(t)\n",
    "\n",
    "t1 = list(t)\n",
    "t1.insert(7,\"abc\")\n",
    "t = tuple(t1)\n",
    "\n",
    "print(t)"
   ]
  },
  {
   "cell_type": "code",
   "execution_count": 223,
   "id": "df82502d-288d-48d5-8310-058142a2473a",
   "metadata": {},
   "outputs": [
    {
     "ename": "TypeError",
     "evalue": "'tuple' object doesn't support item deletion",
     "output_type": "error",
     "traceback": [
      "\u001b[0;31m---------------------------------------------------------------------------\u001b[0m",
      "\u001b[0;31mTypeError\u001b[0m                                 Traceback (most recent call last)",
      "Cell \u001b[0;32mIn[223], line 3\u001b[0m\n\u001b[1;32m      1\u001b[0m t \u001b[38;5;241m=\u001b[39m (\u001b[38;5;241m1\u001b[39m,\u001b[38;5;241m2\u001b[39m,\u001b[38;5;241m3\u001b[39m,\u001b[38;5;241m4\u001b[39m,\u001b[38;5;241m5\u001b[39m,\u001b[38;5;241m0\u001b[39m)\n\u001b[0;32m----> 3\u001b[0m \u001b[38;5;28;01mdel\u001b[39;00m t[\u001b[38;5;241m1\u001b[39m]\n",
      "\u001b[0;31mTypeError\u001b[0m: 'tuple' object doesn't support item deletion"
     ]
    }
   ],
   "source": [
    "t = (1,2,3,4,5,0)\n",
    "\n",
    "del t[1]"
   ]
  },
  {
   "cell_type": "code",
   "execution_count": 230,
   "id": "48ec4d29-16f0-4a9c-bf47-3784a285341c",
   "metadata": {},
   "outputs": [
    {
     "name": "stdout",
     "output_type": "stream",
     "text": [
      "(1, 2, 3, 4, 5, 0)\n",
      "(2, 3, 4, 5, 0)\n"
     ]
    }
   ],
   "source": [
    "t = (1,2,3,4,5,0)\n",
    "print(t)\n",
    "\n",
    "t1 = list(t)\n",
    "del t1[0]\n",
    "t = tuple(t1)\n",
    "\n",
    "print(t)"
   ]
  },
  {
   "cell_type": "code",
   "execution_count": 232,
   "id": "781fb513-e661-4605-937a-42cbfec67abd",
   "metadata": {},
   "outputs": [],
   "source": [
    "# SETS"
   ]
  },
  {
   "cell_type": "code",
   "execution_count": 234,
   "id": "12753b4e-a734-4662-b429-3c6923c3e2f1",
   "metadata": {},
   "outputs": [
    {
     "name": "stdout",
     "output_type": "stream",
     "text": [
      "{1, 2, 3}\n"
     ]
    }
   ],
   "source": [
    "s = set([1,2,3,1,2,3])\n",
    "print(s)"
   ]
  },
  {
   "cell_type": "code",
   "execution_count": 248,
   "id": "d529f067-d53d-4ab8-b54d-d2fecc0c52fe",
   "metadata": {},
   "outputs": [
    {
     "name": "stdout",
     "output_type": "stream",
     "text": [
      "{'a', 'e', 'b', 'c', 'd', 'f'}\n",
      "{'a', 'e'}\n",
      "{'b', 'f'}\n",
      "{'b', 'f'}\n",
      "{'c', 'd'}\n",
      "{'c', 'd'}\n",
      "{'b', 'c', 'd', 'f'}\n",
      "{'b', 'c', 'd', 'f'}\n"
     ]
    }
   ],
   "source": [
    "a = set([\"a\",\"b\",\"e\",\"f\"])\n",
    "b = set(['a','c','d','e'])\n",
    "\n",
    "print(a.union(b))\n",
    "print(a.intersection(b))\n",
    "print(a.difference(b))\n",
    "print(a-b)\n",
    "print(b.difference(a))\n",
    "print(b-a)\n",
    "print(a.symmetric_difference(b))\n",
    "print(b.symmetric_difference(a))"
   ]
  },
  {
   "cell_type": "code",
   "execution_count": 252,
   "id": "3685be29-f5fe-4e88-9bc7-4e2f0a106d4e",
   "metadata": {},
   "outputs": [
    {
     "name": "stdout",
     "output_type": "stream",
     "text": [
      "{'a', 'e', 'f', 'b'}\n",
      "{'a', 'e', 'b', 'd', 'f'}\n",
      "{'a', 'e', 'b', 'd', 'f'}\n",
      "{'a', 'e', 'b', 'f'}\n",
      "{'e', 'b', 'f'}\n",
      "{'b', 'f'}\n"
     ]
    }
   ],
   "source": [
    "a = set([\"a\",\"b\",\"e\",\"f\"])\n",
    "print(a)\n",
    "a.add(\"d\")\n",
    "print(a)\n",
    "a.add(\"d\")\n",
    "print(a)\n",
    "a.remove(\"d\")\n",
    "print(a)\n",
    "a.pop()\n",
    "print(a)\n",
    "a.pop()\n",
    "print(a)"
   ]
  },
  {
   "cell_type": "code",
   "execution_count": 254,
   "id": "108a632d-3789-416c-8c93-3438311b2cf3",
   "metadata": {},
   "outputs": [
    {
     "name": "stdout",
     "output_type": "stream",
     "text": [
      "['/opt/anaconda3/lib/python3.11/site-packages/ipykernel_launcher.py', '-f', '/Users/tanmaysingh/Library/Jupyter/runtime/kernel-e642ba53-da0e-4ca0-89e3-5c13dda647a5.json']\n"
     ]
    },
    {
     "ename": "ValueError",
     "evalue": "invalid literal for int() with base 10: '-f'",
     "output_type": "error",
     "traceback": [
      "\u001b[0;31m---------------------------------------------------------------------------\u001b[0m",
      "\u001b[0;31mValueError\u001b[0m                                Traceback (most recent call last)",
      "Cell \u001b[0;32mIn[254], line 3\u001b[0m\n\u001b[1;32m      1\u001b[0m \u001b[38;5;28;01mimport\u001b[39;00m \u001b[38;5;21;01msys\u001b[39;00m\n\u001b[1;32m      2\u001b[0m \u001b[38;5;28mprint\u001b[39m (sys\u001b[38;5;241m.\u001b[39margv)\n\u001b[0;32m----> 3\u001b[0m a \u001b[38;5;241m=\u001b[39m \u001b[38;5;28mint\u001b[39m(sys\u001b[38;5;241m.\u001b[39margv[\u001b[38;5;241m1\u001b[39m]) \t\u001b[38;5;66;03m# First Number\u001b[39;00m\n\u001b[1;32m      4\u001b[0m b \u001b[38;5;241m=\u001b[39m \u001b[38;5;28mint\u001b[39m(sys\u001b[38;5;241m.\u001b[39margv[\u001b[38;5;241m2\u001b[39m])\t\u001b[38;5;66;03m# Second Number\u001b[39;00m\n\u001b[1;32m      5\u001b[0m c \u001b[38;5;241m=\u001b[39m a \u001b[38;5;241m+\u001b[39m b\n",
      "\u001b[0;31mValueError\u001b[0m: invalid literal for int() with base 10: '-f'"
     ]
    }
   ],
   "source": [
    "\n",
    "import sys\n",
    "print (sys.argv)\n",
    "a = int(sys.argv[1]) \t# First Number\n",
    "b = int(sys.argv[2])\t# Second Number\n",
    "c = a + b\n",
    "print (a, \" + \", b, \" --> \", c)"
   ]
  },
  {
   "cell_type": "code",
   "execution_count": 262,
   "id": "1f62d9a2-16b4-4646-8863-7379cd0d8abc",
   "metadata": {},
   "outputs": [
    {
     "name": "stdout",
     "output_type": "stream",
     "text": [
      "['/opt/anaconda3/lib/python3.11/site-packages/ipykernel_launcher.py', '-f', '/Users/tanmaysingh/Library/Jupyter/runtime/kernel-e642ba53-da0e-4ca0-89e3-5c13dda647a5.json']\n",
      "-f  +  /Users/tanmaysingh/Library/Jupyter/runtime/kernel-e642ba53-da0e-4ca0-89e3-5c13dda647a5.json  -->  /opt/anaconda3/lib/python3.11/site-packages/ipykernel_launcher.py -f\n"
     ]
    }
   ],
   "source": [
    "\n",
    "import sys\n",
    "print (sys.argv)\n",
    "s = sys.argv[0] + \" \" + sys.argv[1]\n",
    "print (sys.argv[1], \" + \", sys.argv[2], \" --> \", s)"
   ]
  },
  {
   "cell_type": "code",
   "execution_count": 264,
   "id": "e30d2ddf-14bc-4ea4-a0b8-a6505f5dafd3",
   "metadata": {},
   "outputs": [],
   "source": [
    "# FILE HANDLING"
   ]
  },
  {
   "cell_type": "code",
   "execution_count": 272,
   "id": "e2e9c1d2-e4b1-43b5-8dd8-08f71d38b14e",
   "metadata": {},
   "outputs": [
    {
     "name": "stdout",
     "output_type": "stream",
     "text": [
      "done\n"
     ]
    }
   ],
   "source": [
    "fp =open(\"smaple.txt\",'w')\n",
    "for i in range(0,11):\n",
    "    fp.write(str(i) + \"\\n\")\n",
    "fp.close()\n",
    "print(\"done\")"
   ]
  },
  {
   "cell_type": "code",
   "execution_count": 274,
   "id": "1869aa52-3817-499e-a508-c7ddc678b0bc",
   "metadata": {},
   "outputs": [
    {
     "name": "stdout",
     "output_type": "stream",
     "text": [
      "0\n",
      "1\n",
      "2\n",
      "3\n",
      "4\n",
      "5\n",
      "6\n",
      "7\n",
      "8\n",
      "9\n",
      "10\n"
     ]
    }
   ],
   "source": [
    "fp = open(\"smaple.txt\",\"r\")\n",
    "for i in fp:\n",
    "    print(i.strip())\n",
    "fp.close()"
   ]
  },
  {
   "cell_type": "code",
   "execution_count": 278,
   "id": "a73ea9ef-2076-43e2-83aa-5f5a3ba81d1b",
   "metadata": {},
   "outputs": [],
   "source": [
    "fp = open(\"sam2.txt\",\"w\")\n",
    "ap = open(\"smaple.txt\",\"r\")\n",
    "for i in ap:\n",
    "    fp.write(i.upper())\n",
    "fp.close()\n",
    "ap.close()"
   ]
  },
  {
   "cell_type": "code",
   "execution_count": null,
   "id": "0ee8cfc4-7bc8-43eb-8236-5472fd94b351",
   "metadata": {},
   "outputs": [],
   "source": []
  }
 ],
 "metadata": {
  "kernelspec": {
   "display_name": "Python 3 (ipykernel)",
   "language": "python",
   "name": "python3"
  },
  "language_info": {
   "codemirror_mode": {
    "name": "ipython",
    "version": 3
   },
   "file_extension": ".py",
   "mimetype": "text/x-python",
   "name": "python",
   "nbconvert_exporter": "python",
   "pygments_lexer": "ipython3",
   "version": "3.11.8"
  }
 },
 "nbformat": 4,
 "nbformat_minor": 5
}
